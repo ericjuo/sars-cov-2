{
 "cells": [
  {
   "cell_type": "markdown",
   "metadata": {},
   "source": [
    "# Basic statistics of SARS-CoV-2 virus\n",
    "-   What is the size of SARS-CoV-2 genome?\n",
    "-   What is the GC content of the genome?\n",
    "    -   Is it different from other coronavirus?\n",
    "-   How many genes in the SARS-CoV-2 genome?\n",
    "    -   how many genes recorded in the NCBI page?\n",
    "    -   Can it be predicted by programming? (by searching start codon ATC?)\n",
    "-   How many functional proteins?\n",
    "    -   What are there size?"
   ]
  },
  {
   "cell_type": "markdown",
   "metadata": {},
   "source": [
    "##  What is the size of SARS-CoV-2 genome?"
   ]
  },
  {
   "cell_type": "code",
   "execution_count": 5,
   "metadata": {},
   "outputs": [
    {
     "name": "stdout",
     "output_type": "stream",
     "text": [
      "The size of SARS-CoV-2 genome is 29,903 bp\n"
     ]
    }
   ],
   "source": [
    "from Bio import SeqIO\n",
    "from Bio.SeqUtils import GC\n",
    "from collections import Counter\n",
    "record, = SeqIO.parse('../data/01_raw/NC_045512.fasta', 'fasta')\n",
    "genome_size = len(record.seq)\n",
    "print('The size of SARS-CoV-2 genome is {:,} bp'.format(genome_size))"
   ]
  },
  {
   "cell_type": "markdown",
   "metadata": {},
   "source": [
    "##  What is the GC content of the genome?"
   ]
  },
  {
   "cell_type": "code",
   "execution_count": 13,
   "metadata": {},
   "outputs": [
    {
     "name": "stdout",
     "output_type": "stream",
     "text": [
      "The GC content of SARS-CoV-2 genome is 37%\n",
      "Neucleotide composition of SARS-CoV-2: A(29%), T(32%), C(18%), G(19%)\n"
     ]
    }
   ],
   "source": [
    "from Bio.SeqUtils import GC\n",
    "from collections import Counter\n",
    "print('The GC content of SARS-CoV-2 genome is %d%%' % GC(record.seq))\n",
    "\n",
    "nt_comp = Counter(record.seq)\n",
    "print('Neucleotide composition of SARS-CoV-2: A(%d%%), T(%d%%), C(%d%%), G(%d%%)' % (nt_comp['A']/genome_size*100, nt_comp['T']/genome_size*100, nt_comp['C']/genome_size*100, nt_comp['G']/genome_size*100))"
   ]
  },
  {
   "cell_type": "code",
   "execution_count": 42,
   "metadata": {},
   "outputs": [
    {
     "name": "stdout",
     "output_type": "stream",
     "text": [
      "The size of SARS-CoV-2 genome is 29,903 bp\n",
      "The GC content of SARS-CoV-2 genome is 37%\n",
      "Neucleotide composition of SARS-CoV-2: A(29%), T(32%), C(18%), G(19%)\n"
     ]
    }
   ],
   "source": [
    "class Seq:\n",
    "    def __init__(self, name, seqrecord):\n",
    "        self._seq = seqrecord.seq\n",
    "        self._name = name\n",
    "        self._id = seqrecord.id\n",
    "        self._size = None\n",
    "        self._GC = None\n",
    "    def getName(self):\n",
    "        return self._name\n",
    "    def getID(self):\n",
    "        return self._id\n",
    "    def reportSize(self):\n",
    "        self._size = len(self._seq)\n",
    "        print('The size of {} genome is {:,} bp'.format(self._name ,self._size))\n",
    "    def genomeGC(self):\n",
    "        self._GC = GC(self._seq)\n",
    "        return self._GC\n",
    "    def reportGC(self):\n",
    "        self.genomeGC()\n",
    "        print('The GC content of %s genome is %d%%' % (self._name, self._GC))\n",
    "    def ntcomponent(self):\n",
    "        d = Counter(self._seq)\n",
    "        self._ntcomponents = {k: v/self._size*100 for (k, v) in d.items()}\n",
    "        return self._ntcomponents\n",
    "    def reportNtComponent(self):\n",
    "        self.ntcomponent()\n",
    "        print('Neucleotide composition of %s: A(%d%%), T(%d%%), C(%d%%), G(%d%%)' % (self._name, self._ntcomponents['A'], self._ntcomponents['T'], self._ntcomponents['C'], self._ntcomponents['G']))\n",
    "\n",
    "def testGenomeInfo(filepath):\n",
    "    record = Seq('SARS-CoV-2', next(SeqIO.parse(filepath, 'fasta')))\n",
    "    record.reportSize()\n",
    "    record.reportGC()\n",
    "    record.reportNtComponent()\n",
    "\n",
    "filepath = '../data/01_raw/NC_045512.fasta'\n",
    "testGenomeInfo(filepath)"
   ]
  },
  {
   "cell_type": "markdown",
   "metadata": {},
   "source": [
    "## Is it different from other coronavirus?\n",
    "-   Feline infectious peritonitis virus (NC_002306.3)\n",
    "-   Human coronavirus 229E (NC_002645.1)\n",
    "-   Human coronavirus NL64 (NC_005831.2)\n",
    "-   Miniopterus bat coronavirus 1A (NC_010437.1)\n",
    "-   Miniopterus bat coronavirus 1B (EU420137.1)\n",
    "-   Miniopterus bat coronavirus HKU8 (NC_010438.1)\n",
    "-   Porcine epidemic diarrhea virus (NC_003436.1)\n",
    "-   Porcine respiratory coronavirus (DQ811787.1)\n",
    "-   Rhinolophus bat coronavirus HKU2 (NC_009988.1)\n",
    "-   Scotophilus bat coronavirus 512 (NC_009657.1)\n",
    "-   Transmissible gastroenteritis virus (NC_038861.1)\n",
    "-   Bovine coronavirus (NC_003045.1)\n",
    "-   Equine coronavirus (LC061274.1)\n",
    "-   Human coronavirus HKU1 (NC_006577.2)\n",
    "-   Human coronavirus OC43 (NC_006213.1)\n",
    "-   Mouse hepatitis virus (NC_001846.1)\n",
    "-   Porcine hemagglutinating encephalomyelitis virus (DQ011855.1)\n",
    "-   Severe acute respiratory syndrome-related coronavirus 2\t(NC_045512.2)\n",
    "-   Severe acute respiratory syndrome-related coronavirus\t(NC_004718.3)\n",
    "-   SARS-related Rhinolophus bat coronavirus HKU3/\t(NC_009694.1)\n",
    "-   Middle East respiratory syndrome-related coronavirus\t(NC_019843.3)\n",
    "-   Bat coronavirus HKU9-1\t(NC_009021.1)\n",
    "-   Pipistrellus bat coronavirus HKU5\t(NC_009020.1)\n",
    "-   Tylonycteris bat coronavirus HKU4\t(NC_009019.1)\n",
    "-   Avian infectious bronchitis virus\t(NC_001451.1)\n",
    "-   Beluga whale coronavirus SW1\t(NC_010646.1)\n",
    "-   Turkey coronavirus\t(NC_010800.1)\n",
    "-   Bulbul coronavirus HKU11-934\t(NC_011547.1)\n",
    "-   Munia coronavirus HKU13-3514\t(NC_011550.1)\n",
    "-   Thrush coronavirus HKU12-600\t(NC_011549.1)"
   ]
  },
  {
   "cell_type": "code",
   "execution_count": 41,
   "metadata": {},
   "outputs": [
    {
     "name": "stdout",
     "output_type": "stream",
     "text": [
      "The mean GC content of coronavirus genome is 39%\n"
     ]
    }
   ],
   "source": [
    "import os\n",
    "import gzip\n",
    "import numpy as np\n",
    "DIR= r'../data/01_raw/refseq/viral/'\n",
    "viral_records = []\n",
    "for folder in os.listdir(DIR):\n",
    "    for f in os.listdir(os.path.join(DIR, folder)):\n",
    "        if f.endswith(\".fna.gz\"):\n",
    "            with gzip.open(os.path.join(DIR, folder, f), 'rt') as handle:\n",
    "                viral_record = SeqIO.parse(handle, 'fasta')\n",
    "                for viral in viral_record:\n",
    "                    viral_records.append(viral)\n",
    "\n",
    "ls_corona = ['NC_002306.3', 'NC_002645.1', 'NC_005831.2', 'NC_010437.1', 'EU420137.1',\n",
    "'NC_010438.1', 'NC_003436.1', 'DQ811787.1', 'NC_009988.1', 'NC_009657.1', 'NC_038861.1', \n",
    "'NC_003045.1', 'LC061274.1', 'NC_006577.2', 'NC_006213.1', 'NC_001846.1', 'DQ011855.1', \n",
    "'NC_004718.3', 'NC_009694.1', 'NC_019843.3', 'NC_009021.1', 'NC_009020.1', 'NC_009019.1', \n",
    "'NC_001451.1', 'NC_010646.1', 'NC_010800.1', 'NC_011547.1', 'NC_011550.1', 'NC_011549.1']\n",
    "GCs_viral = []\n",
    "for viral in viral_records:\n",
    "    if viral.id in ls_corona:\n",
    "        GC_viral = GC(viral.seq)\n",
    "        GCs_viral.append(GC_viral)\n",
    "\n",
    "    else:\n",
    "        continue\n",
    "print('The mean GC content of coronavirus genome is %d%%' % np.mean(GCs_viral))\n"
   ]
  },
  {
   "cell_type": "code",
   "execution_count": 40,
   "metadata": {},
   "outputs": [
    {
     "name": "stdout",
     "output_type": "stream",
     "text": [
      "Coronavirus contains 24 genome sequences\n",
      "The mean GC content of Coronavirus genome is 39.01%\n",
      "The mean nucleotide composition of Coronavirus genome: A(27.22%), T(33.77%), C(17.57%), G(21.44%)\n"
     ]
    }
   ],
   "source": [
    "class ViralSeqs:\n",
    "    def __init__(self, name, lst_accessions):\n",
    "        self._name = name\n",
    "        self._viralseqs = []\n",
    "        self.filterViral(lst_accessions)\n",
    "    def getViralseqs(self):\n",
    "        return self._viralseqs\n",
    "    def getNumberofSeqs(self):\n",
    "        self._num = len(self._viralseqs)\n",
    "    def filterViral(self, lst_accessions):\n",
    "        DIR= r'../data/01_raw/refseq/viral/'\n",
    "        for folder in os.listdir(DIR):\n",
    "            for f in os.listdir(os.path.join(DIR, folder)):\n",
    "                if f.endswith(\".fna.gz\"):\n",
    "                    with gzip.open(os.path.join(DIR, folder, f), 'rt') as handle:\n",
    "                        viral_record = SeqIO.parse(handle, 'fasta')\n",
    "                        for viral in viral_record:\n",
    "                            if viral.id.split('.')[0] in lst_accessions:\n",
    "                                self._viralseqs.append(viral)\n",
    "        return self._viralseqs\n",
    "    def getName(self):\n",
    "        return self._name\n",
    "    def meanViralGC(self):\n",
    "        self._meanGC = np.mean([GC(s.seq) for s in self._viralseqs])\n",
    "        return self._meanGC\n",
    "    def reportmeanGC(self):\n",
    "        self.meanViralGC()\n",
    "        print('The mean GC content of %s genome is %.2f%%' % (self._name, self._meanGC))\n",
    "    def meanntcomponent(self):\n",
    "        ntcomponents = {'A':[], 'T':[], 'C': [], 'G': []}\n",
    "        for viral in self._viralseqs:\n",
    "            d = Counter(viral.seq.upper())\n",
    "            ntcomp = {k: v/len(viral.seq)*100 for (k, v) in d.items()}\n",
    "            ntcomponents['A'].append(ntcomp['A'])\n",
    "            ntcomponents['T'].append(ntcomp['T'])\n",
    "            ntcomponents['C'].append(ntcomp['C'])\n",
    "            ntcomponents['G'].append(ntcomp['G'])\n",
    "        self._meancomp = {k: np.mean(v) for (k, v) in ntcomponents.items()}\n",
    "        return self._meancomp\n",
    "    def reportmeancomp(self):\n",
    "        self.meanntcomponent()\n",
    "        print('The mean nucleotide composition of %s genome: A(%.2f%%), T(%.2f%%), C(%.2f%%), G(%.2f%%)' % (self._name, self._meancomp['A'], self._meancomp['T'], self._meancomp['C'], self._meancomp['G']))\n",
    "    def reportnumofseqs(self):\n",
    "        self.getNumberofSeqs()\n",
    "        print('%s contains %d genome sequences' % (self._name, self._num))   \n",
    "\n",
    "def testViralSeqs():\n",
    "    acc_corona =  ['NC_002306', 'NC_002645', 'NC_005831', 'NC_010437', 'EU420137',\n",
    "    'NC_010438', 'NC_003436', 'DQ811787', 'NC_009988', 'NC_009657', 'NC_038861', \n",
    "    'NC_003045', 'LC061274', 'NC_006577', 'NC_006213', 'NC_001846', 'DQ011855', \n",
    "    'NC_004718', 'NC_009694', 'NC_019843', 'NC_009021', 'NC_009020', 'NC_009019', \n",
    "    'NC_001451', 'NC_010646', 'NC_010800', 'NC_011547', 'NC_011550', 'NC_011549']\n",
    "    coronavirus = ViralSeqs('Coronavirus', acc_corona)\n",
    "    coronavirus.reportnumofseqs()\n",
    "    coronavirus.reportmeanGC()\n",
    "    coronavirus.reportmeancomp()\n",
    "\n",
    "    \n",
    "testViralSeqs()\n",
    "    "
   ]
  },
  {
   "cell_type": "markdown",
   "metadata": {},
   "source": [
    "#   How many genes in the SARS-CoV-2 genome?  \n",
    "-   identify open reading frame in the SARS-CoV-2 genome."
   ]
  },
  {
   "cell_type": "markdown",
   "metadata": {},
   "source": []
  }
 ],
 "metadata": {
  "interpreter": {
   "hash": "9d3bae0a0f66551680ef8a166f6b92cc2774d5d7901f027deb7bb883ed06d5ae"
  },
  "kernelspec": {
   "display_name": "Python 3.7.4 64-bit ('base': conda)",
   "name": "python3"
  },
  "language_info": {
   "codemirror_mode": {
    "name": "ipython",
    "version": 3
   },
   "file_extension": ".py",
   "mimetype": "text/x-python",
   "name": "python",
   "nbconvert_exporter": "python",
   "pygments_lexer": "ipython3",
   "version": "3.7.4"
  },
  "orig_nbformat": 4
 },
 "nbformat": 4,
 "nbformat_minor": 2
}
