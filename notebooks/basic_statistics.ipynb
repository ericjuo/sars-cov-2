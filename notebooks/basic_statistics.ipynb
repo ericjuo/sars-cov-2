{
 "cells": [
  {
   "cell_type": "markdown",
   "metadata": {},
   "source": [
    "# Basic statistics of SARS-CoV-2 virus\n",
    "-   What is the size of SARS-CoV-2 genome?\n",
    "-   What is the GC content of the genome?\n",
    "    -   Is it different from other viruses?\n",
    "    -   What is the GC content of Human?\n",
    "-   How many genes in the SARS-CoV-2 genome?\n",
    "    -   how many genes recorded in the NCBI page?\n",
    "    -   Can it be predicted by programming? (by searching start codon ATC?)\n",
    "-   How many functional proteins?\n",
    "    -   What are there size?"
   ]
  },
  {
   "cell_type": "markdown",
   "metadata": {},
   "source": [
    "##  What is the size of SARS-CoV-2 genome?"
   ]
  },
  {
   "cell_type": "code",
   "execution_count": 12,
   "metadata": {},
   "outputs": [
    {
     "name": "stdout",
     "output_type": "stream",
     "text": [
      "The size of SARS-CoV-2 genome is 29,903 bp\n"
     ]
    }
   ],
   "source": [
    "from Bio import SeqIO\n",
    "\n",
    "record, = SeqIO.parse('../data/01_raw/NC_045512.fasta', 'fasta')\n",
    "genome_size = len(record.seq)\n",
    "print('The size of SARS-CoV-2 genome is {:,} bp'.format(genome_size))"
   ]
  },
  {
   "cell_type": "markdown",
   "metadata": {},
   "source": [
    "##  What is the GC content of the genome?"
   ]
  },
  {
   "cell_type": "code",
   "execution_count": 13,
   "metadata": {},
   "outputs": [
    {
     "name": "stdout",
     "output_type": "stream",
     "text": [
      "The GC content of SARS-CoV-2 genome is 37%\n",
      "Neucleotide composition of SARS-CoV-2: A(29%), T(32%), C(18%), G(19%)\n"
     ]
    }
   ],
   "source": [
    "from Bio.SeqUtils import GC\n",
    "from collections import Counter\n",
    "print('The GC content of SARS-CoV-2 genome is %d%%' % GC(record.seq))\n",
    "\n",
    "nt_comp = Counter(record.seq)\n",
    "print('Neucleotide composition of SARS-CoV-2: A(%d%%), T(%d%%), C(%d%%), G(%d%%)' % (nt_comp['A']/genome_size*100, nt_comp['T']/genome_size*100, nt_comp['C']/genome_size*100, nt_comp['G']/genome_size*100))"
   ]
  },
  {
   "cell_type": "markdown",
   "metadata": {},
   "source": [
    "## Is it different from other viruses?\n",
    "-   Astrovirus\n",
    "-   Coronavirus\n",
    "-   Coxsackie virus A9\n",
    "-   Dengue virus type 1\n",
    "-   Dengue virus type 2\n",
    "-   Dengue virus type 3\n",
    "-   Dengue virus type 4\n",
    "-   Enterovirus 71\n",
    "-   ..."
   ]
  },
  {
   "cell_type": "code",
   "execution_count": 17,
   "metadata": {},
   "outputs": [
    {
     "name": "stdout",
     "output_type": "stream",
     "text": [
      "NC_003436.1 Porcine epidemic diarrhea virus, complete genome:\n",
      "The GC content of genome is 42%\n",
      "NC_002645.1 Human coronavirus 229E, complete genome:\n",
      "The GC content of genome is 38%\n",
      "NC_005831.2 Human Coronavirus NL63, complete genome:\n",
      "The GC content of genome is 34%\n",
      "NC_002306.3 Feline infectious peritonitis virus, complete genome:\n",
      "The GC content of genome is 38%\n",
      "NC_006577.2 Human coronavirus HKU1, complete genome:\n",
      "The GC content of genome is 32%\n",
      "NC_001846.1 Murine hepatitis virus strain MHV-A59 C12 mutant, complete genome:\n",
      "The GC content of genome is 41%\n",
      "NC_003045.1 Bovine coronavirus isolate BCoV-ENT, complete genome:\n",
      "The GC content of genome is 37%\n",
      "NC_001451.1 Avian infectious bronchitis virus, complete genome:\n",
      "The GC content of genome is 37%\n",
      "NC_004718.3 SARS coronavirus Tor2, complete genome:\n",
      "The GC content of genome is 40%\n",
      "NC_009021.1 Rousettus bat coronavirus HKU9, complete genome:\n",
      "The GC content of genome is 41%\n",
      "NC_009019.1 Tylonycteris bat coronavirus HKU4, complete genome:\n",
      "The GC content of genome is 37%\n",
      "NC_009657.1 Scotophilus bat coronavirus 512, complete genome:\n",
      "The GC content of genome is 40%\n",
      "NC_010646.1 Beluga Whale coronavirus SW1, complete genome:\n",
      "The GC content of genome is 39%\n",
      "NC_009020.1 Pipistrellus bat coronavirus HKU5, complete genome:\n",
      "The GC content of genome is 43%\n",
      "NC_009988.1 Bat coronavirus HKU2, complete genome:\n",
      "The GC content of genome is 39%\n",
      "NC_010437.1 Bat coronavirus 1A, complete genome:\n",
      "The GC content of genome is 38%\n",
      "NC_010438.1 Bat coronavirus HKU8, complete genome:\n",
      "The GC content of genome is 41%\n",
      "NC_010800.1 Turkey coronavirus, complete genome:\n",
      "The GC content of genome is 38%\n",
      "NC_011550.1 Munia coronavirus HKU13-3514, complete genome:\n",
      "The GC content of genome is 42%\n",
      "NC_011549.1 Thrush coronavirus HKU12-600, complete genome:\n",
      "The GC content of genome is 38%\n",
      "NC_019843.3 Middle East respiratory syndrome-related coronavirus isolate HCoV-EMC/2012, complete genome:\n",
      "The GC content of genome is 41%\n",
      "NC_011547.1 Bulbul coronavirus HKU11-934, complete genome:\n",
      "The GC content of genome is 38%\n",
      "NC_038861.1 Transmissible gastroenteritis virus complete genome, genomic RNA:\n",
      "The GC content of genome is 37%\n",
      "NC_006213.1 Human coronavirus OC43 strain ATCC VR-759, complete genome:\n",
      "The GC content of genome is 36%\n",
      "The mean GC content of coronavirus other than SARS-CoV-2 genome is 39%\n"
     ]
    }
   ],
   "source": [
    "import os\n",
    "import gzip\n",
    "import numpy as np\n",
    "DIR= r'../data/01_raw/refseq/viral/'\n",
    "viral_records = []\n",
    "for folder in os.listdir(DIR):\n",
    "    for f in os.listdir(os.path.join(DIR, folder)):\n",
    "        if f.endswith(\".fna.gz\"):\n",
    "            with gzip.open(os.path.join(DIR, folder, f), 'rt') as handle:\n",
    "                viral_record = SeqIO.parse(handle, 'fasta')\n",
    "                for viral in viral_record:\n",
    "                    viral_records.append(viral)\n",
    "\n",
    "ls_corona = ['NC_002306.3', 'NC_002645.1', 'NC_005831.2', 'NC_010437.1', 'EU420137.1',\n",
    "'NC_010438.1', 'NC_003436.1', 'DQ811787.1', 'NC_009988.1', 'NC_009657.1', 'NC_038861.1', \n",
    "'NC_003045.1', 'LC061274.1', 'NC_006577.2', 'NC_006213.1', 'NC_001846.1', 'DQ011855.1', \n",
    "'NC_004718.3', 'NC_009694.1', 'NC_019843.3', 'NC_009021.1', 'NC_009020.1', 'NC_009019.1', \n",
    "'NC_001451.1', 'NC_010646.1', 'NC_010800.1', 'NC_011547.1', 'NC_011550.1', 'NC_011549.1']\n",
    "GCs_viral = []\n",
    "for viral in viral_records:\n",
    "    if viral.id in ls_corona:\n",
    "        GC_viral = GC(viral.seq)\n",
    "        GCs_viral.append(GC_viral)\n",
    "        print('%s:' % viral.description)\n",
    "        print('The GC content of genome is %d%%' % GC_viral)\n",
    "    else:\n",
    "        continue\n",
    "print('The mean GC content of coronavirus other than SARS-CoV-2 genome is %d%%' % np.mean(GCs_viral))\n"
   ]
  },
  {
   "cell_type": "code",
   "execution_count": null,
   "metadata": {},
   "outputs": [],
   "source": []
  }
 ],
 "metadata": {
  "interpreter": {
   "hash": "9d3bae0a0f66551680ef8a166f6b92cc2774d5d7901f027deb7bb883ed06d5ae"
  },
  "kernelspec": {
   "display_name": "Python 3.7.4 64-bit ('base': conda)",
   "name": "python3"
  },
  "language_info": {
   "codemirror_mode": {
    "name": "ipython",
    "version": 3
   },
   "file_extension": ".py",
   "mimetype": "text/x-python",
   "name": "python",
   "nbconvert_exporter": "python",
   "pygments_lexer": "ipython3",
   "version": "3.7.4"
  },
  "orig_nbformat": 4
 },
 "nbformat": 4,
 "nbformat_minor": 2
}
