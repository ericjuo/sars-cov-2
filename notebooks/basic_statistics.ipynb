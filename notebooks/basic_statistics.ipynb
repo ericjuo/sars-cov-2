{
 "cells": [
  {
   "cell_type": "markdown",
   "metadata": {},
   "source": [
    "# Basic statistics of SARS-CoV-2 virus\n",
    "-   What is the size of SARS-CoV-2 genome?\n",
    "-   What is the GC content of the genome?\n",
    "    -   Is it different from other coronavirus?\n",
    "-   How many genes in the SARS-CoV-2 genome?\n",
    "    -   how many genes recorded in the NCBI page?\n",
    "    -   Can it be predicted by programming? (by searching start codon ATC?)\n",
    "-   How many functional proteins?\n",
    "    -   What are there size?"
   ]
  },
  {
   "cell_type": "markdown",
   "metadata": {},
   "source": [
    "##  What is the size of SARS-CoV-2 genome?"
   ]
  },
  {
   "cell_type": "code",
   "execution_count": 11,
   "metadata": {},
   "outputs": [
    {
     "data": {
      "text/plain": [
       "{'Count': '1', 'RetMax': '1', 'RetStart': '0', 'IdList': ['1798174254'], 'TranslationSet': [{'From': '\"Severe acute respiratory syndrome coronavirus 2\"[Organism]', 'To': '\"Severe acute respiratory syndrome coronavirus 2\"[Organism]'}], 'TranslationStack': [{'Term': '\"Severe acute respiratory syndrome coronavirus 2\"[Organism]', 'Field': 'Organism', 'Count': '2588911', 'Explode': 'Y'}, {'Term': 'refseq[Filter]', 'Field': 'Filter', 'Count': '81198448', 'Explode': 'N'}, 'AND'], 'QueryTranslation': '\"Severe acute respiratory syndrome coronavirus 2\"[Organism] AND refseq[Filter]'}"
      ]
     },
     "execution_count": 11,
     "metadata": {},
     "output_type": "execute_result"
    }
   ],
   "source": [
    "import sys\n",
    "sys.path.append('../')\n",
    "from Bio import Entrez, SeqIO\n",
    "from conf import config\n",
    "Entrez.email = config.email\n",
    "# Search SARS-CoV-2 genome refseq using Entrez\n",
    "handle = Entrez.esearch(db='nucleotide', term='\"Severe acute respiratory syndrome coronavirus 2\"[Organism] AND refseq[Filter]')\n",
    "record = Entrez.read(handle)\n",
    "record"
   ]
  },
  {
   "cell_type": "code",
   "execution_count": 13,
   "metadata": {},
   "outputs": [
    {
     "name": "stdout",
     "output_type": "stream",
     "text": [
      "ID: NC_045512.2\n",
      "Name: NC_045512\n",
      "Description: Severe acute respiratory syndrome coronavirus 2 isolate Wuhan-Hu-1, complete genome\n",
      "Database cross-references: BioProject:PRJNA485481\n",
      "Number of features: 57\n",
      "/molecule_type=ss-RNA\n",
      "/topology=linear\n",
      "/data_file_division=VRL\n",
      "/date=18-JUL-2020\n",
      "/accessions=['NC_045512']\n",
      "/sequence_version=2\n",
      "/keywords=['RefSeq']\n",
      "/source=Severe acute respiratory syndrome coronavirus 2 (SARS-CoV-2)\n",
      "/organism=Severe acute respiratory syndrome coronavirus 2\n",
      "/taxonomy=['Viruses', 'Riboviria', 'Orthornavirae', 'Pisuviricota', 'Pisoniviricetes', 'Nidovirales', 'Cornidovirineae', 'Coronaviridae', 'Orthocoronavirinae', 'Betacoronavirus', 'Sarbecovirus']\n",
      "/references=[Reference(title='A new coronavirus associated with human respiratory disease in China', ...), Reference(title='Programmed ribosomal frameshifting in decoding the SARS-CoV genome', ...), Reference(title='The structure of a rigorously conserved RNA element within the SARS virus genome', ...), Reference(title=\"A phylogenetically conserved hairpin-type 3' untranslated region pseudoknot functions in coronavirus RNA replication\", ...), Reference(title='Direct Submission', ...), Reference(title='Direct Submission', ...)]\n",
      "/comment=REVIEWED REFSEQ: This record has been curated by NCBI staff. The\n",
      "reference sequence is identical to MN908947.\n",
      "On Jan 17, 2020 this sequence version replaced NC_045512.1.\n",
      "Annotation was added using homology to SARSr-CoV NC_004718.3. ###\n",
      "Formerly called 'Wuhan seafood market pneumonia virus.' If you have\n",
      "questions or suggestions, please email us at info@ncbi.nlm.nih.gov\n",
      "and include the accession number NC_045512.### Protein structures\n",
      "can be found at\n",
      "https://www.ncbi.nlm.nih.gov/structure/?term=sars-cov-2.### Find\n",
      "all other Severe acute respiratory syndrome coronavirus 2\n",
      "(SARS-CoV-2) sequences at\n",
      "https://www.ncbi.nlm.nih.gov/genbank/sars-cov-2-seqs/\n",
      "COMPLETENESS: full length.\n",
      "/structured_comment=OrderedDict([('Assembly-Data', OrderedDict([('Assembly Method', 'Megahit v. V1.1.3'), ('Sequencing Technology', 'Illumina')]))])\n",
      "Seq('ATTAAAGGTTTATACCTTCCCAGGTAACAAACCAACCAACTTTCGATCTCTTGT...AAA')\n"
     ]
    }
   ],
   "source": [
    "# Fetch genbank record of SARS-CoV-2 referene genome\n",
    "handle = Entrez.efetch(db='nucleotide', id=record['IdList'][0], rettype=\"gb\", retmode=\"text\")\n",
    "record = SeqIO.read(handle, \"genbank\")\n",
    "handle.close()\n",
    "print(record)"
   ]
  },
  {
   "cell_type": "code",
   "execution_count": 20,
   "metadata": {},
   "outputs": [
    {
     "name": "stdout",
     "output_type": "stream",
     "text": [
      "The size of SARS-CoV-2 reference genome is 29903 bp\n",
      "There are 57 features in the reference genome\n"
     ]
    }
   ],
   "source": [
    "print('The size of SARS-CoV-2 reference genome is %d bp' % len(record))\n",
    "print('There are %d features in the reference genome' % len(record.features))"
   ]
  },
  {
   "cell_type": "code",
   "execution_count": 23,
   "metadata": {},
   "outputs": [
    {
     "name": "stdout",
     "output_type": "stream",
     "text": [
      "type: CDS\n",
      "location: join{[265:13468](+), [13467:21555](+)}\n",
      "qualifiers:\n",
      "    Key: codon_start, Value: ['1']\n",
      "    Key: db_xref, Value: ['GeneID:43740578']\n",
      "    Key: gene, Value: ['ORF1ab']\n",
      "    Key: locus_tag, Value: ['GU280_gp01']\n",
      "    Key: note, Value: ['pp1ab; translated by -1 ribosomal frameshift']\n",
      "    Key: product, Value: ['ORF1ab polyprotein']\n",
      "    Key: protein_id, Value: ['YP_009724389.1']\n",
      "    Key: ribosomal_slippage, Value: ['']\n",
      "    Key: translation, Value: ['MESLVPGFNEKTHVQLSLPVLQVRDVLVRGFGDSVEEVLSEARQHLKDGTCGLVEVEKGVLPQLEQPYVFIKRSDARTAPHGHVMVELVAELEGIQYGRSGETLGVLVPHVGEIPVAYRKVLLRKNGNKGAGGHSYGADLKSFDLGDELGTDPYEDFQENWNTKHSSGVTRELMRELNGGAYTRYVDNNFCGPDGYPLECIKDLLARAGKASCTLSEQLDFIDTKRGVYCCREHEHEIAWYTERSEKSYELQTPFEIKLAKKFDTFNGECPNFVFPLNSIIKTIQPRVEKKKLDGFMGRIRSVYPVASPNECNQMCLSTLMKCDHCGETSWQTGDFVKATCEFCGTENLTKEGATTCGYLPQNAVVKIYCPACHNSEVGPEHSLAEYHNESGLKTILRKGGRTIAFGGCVFSYVGCHNKCAYWVPRASANIGCNHTGVVGEGSEGLNDNLLEILQKEKVNINIVGDFKLNEEIAIILASFSASTSAFVETVKGLDYKAFKQIVESCGNFKVTKGKAKKGAWNIGEQKSILSPLYAFASEAARVVRSIFSRTLETAQNSVRVLQKAAITILDGISQYSLRLIDAMMFTSDLATNNLVVMAYITGGVVQLTSQWLTNIFGTVYEKLKPVLDWLEEKFKEGVEFLRDGWEIVKFISTCACEIVGGQIVTCAKEIKESVQTFFKLVNKFLALCADSIIIGGAKLKALNLGETFVTHSKGLYRKCVKSREETGLLMPLKAPKEIIFLEGETLPTEVLTEEVVLKTGDLQPLEQPTSEAVEAPLVGTPVCINGLMLLEIKDTEKYCALAPNMMVTNNTFTLKGGAPTKVTFGDDTVIEVQGYKSVNITFELDERIDKVLNEKCSAYTVELGTEVNEFACVVADAVIKTLQPVSELLTPLGIDLDEWSMATYYLFDESGEFKLASHMYCSFYPPDEDEEEGDCEEEEFEPSTQYEYGTEDDYQGKPLEFGATSAALQPEEEQEEDWLDDDSQQTVGQQDGSEDNQTTTIQTIVEVQPQLEMELTPVVQTIEVNSFSGYLKLTDNVYIKNADIVEEAKKVKPTVVVNAANVYLKHGGGVAGALNKATNNAMQVESDDYIATNGPLKVGGSCVLSGHNLAKHCLHVVGPNVNKGEDIQLLKSAYENFNQHEVLLAPLLSAGIFGADPIHSLRVCVDTVRTNVYLAVFDKNLYDKLVSSFLEMKSEKQVEQKIAEIPKEEVKPFITESKPSVEQRKQDDKKIKACVEEVTTTLEETKFLTENLLLYIDINGNLHPDSATLVSDIDITFLKKDAPYIVGDVVQEGVLTAVVIPTKKAGGTTEMLAKALRKVPTDNYITTYPGQGLNGYTVEEAKTVLKKCKSAFYILPSIISNEKQEILGTVSWNLREMLAHAEETRKLMPVCVETKAIVSTIQRKYKGIKIQEGVVDYGARFYFYTSKTTVASLINTLNDLNETLVTMPLGYVTHGLNLEEAARYMRSLKVPATVSVSSPDAVTAYNGYLTSSSKTPEEHFIETISLAGSYKDWSYSGQSTQLGIEFLKRGDKSVYYTSNPTTFHLDGEVITFDNLKTLLSLREVRTIKVFTTVDNINLHTQVVDMSMTYGQQFGPTYLDGADVTKIKPHNSHEGKTFYVLPNDDTLRVEAFEYYHTTDPSFLGRYMSALNHTKKWKYPQVNGLTSIKWADNNCYLATALLTLQQIELKFNPPALQDAYYRARAGEAANFCALILAYCNKTVGELGDVRETMSYLFQHANLDSCKRVLNVVCKTCGQQQTTLKGVEAVMYMGTLSYEQFKKGVQIPCTCGKQATKYLVQQESPFVMMSAPPAQYELKHGTFTCASEYTGNYQCGHYKHITSKETLYCIDGALLTKSSEYKGPITDVFYKENSYTTTIKPVTYKLDGVVCTEIDPKLDNYYKKDNSYFTEQPIDLVPNQPYPNASFDNFKFVCDNIKFADDLNQLTGYKKPASRELKVTFFPDLNGDVVAIDYKHYTPSFKKGAKLLHKPIVWHVNNATNKATYKPNTWCIRCLWSTKPVETSNSFDVLKSEDAQGMDNLACEDLKPVSEEVVENPTIQKDVLECNVKTTEVVGDIILKPANNSLKITEEVGHTDLMAAYVDNSSLTIKKPNELSRVLGLKTLATHGLAAVNSVPWDTIANYAKPFLNKVVSTTTNIVTRCLNRVCTNYMPYFFTLLLQLCTFTRSTNSRIKASMPTTIAKNTVKSVGKFCLEASFNYLKSPNFSKLINIIIWFLLLSVCLGSLIYSTAALGVLMSNLGMPSYCTGYREGYLNSTNVTIATYCTGSIPCSVCLSGLDSLDTYPSLETIQITISSFKWDLTAFGLVAEWFLAYILFTRFFYVLGLAAIMQLFFSYFAVHFISNSWLMWLIINLVQMAPISAMVRMYIFFASFYYVWKSYVHVVDGCNSSTCMMCYKRNRATRVECTTIVNGVRRSFYVYANGGKGFCKLHNWNCVNCDTFCAGSTFISDEVARDLSLQFKRPINPTDQSSYIVDSVTVKNGSIHLYFDKAGQKTYERHSLSHFVNLDNLRANNTKGSLPINVIVFDGKSKCEESSAKSASVYYSQLMCQPILLLDQALVSDVGDSAEVAVKMFDAYVNTFSSTFNVPMEKLKTLVATAEAELAKNVSLDNVLSTFISAARQGFVDSDVETKDVVECLKLSHQSDIEVTGDSCNNYMLTYNKVENMTPRDLGACIDCSARHINAQVAKSHNIALIWNVKDFMSLSEQLRKQIRSAAKKNNLPFKLTCATTRQVVNVVTTKIALKGGKIVNNWLKQLIKVTLVFLFVAAIFYLITPVHVMSKHTDFSSEIIGYKAIDGGVTRDIASTDTCFANKHADFDTWFSQRGGSYTNDKACPLIAAVITREVGFVVPGLPGTILRTTNGDFLHFLPRVFSAVGNICYTPSKLIEYTDFATSACVLAAECTIFKDASGKPVPYCYDTNVLEGSVAYESLRPDTRYVLMDGSIIQFPNTYLEGSVRVVTTFDSEYCRHGTCERSEAGVCVSTSGRWVLNNDYYRSLPGVFCGVDAVNLLTNMFTPLIQPIGALDISASIVAGGIVAIVVTCLAYYFMRFRRAFGEYSHVVAFNTLLFLMSFTVLCLTPVYSFLPGVYSVIYLYLTFYLTNDVSFLAHIQWMVMFTPLVPFWITIAYIICISTKHFYWFFSNYLKRRVVFNGVSFSTFEEAALCTFLLNKEMYLKLRSDVLLPLTQYNRYLALYNKYKYFSGAMDTTSYREAACCHLAKALNDFSNSGSDVLYQPPQTSITSAVLQSGFRKMAFPSGKVEGCMVQVTCGTTTLNGLWLDDVVYCPRHVICTSEDMLNPNYEDLLIRKSNHNFLVQAGNVQLRVIGHSMQNCVLKLKVDTANPKTPKYKFVRIQPGQTFSVLACYNGSPSGVYQCAMRPNFTIKGSFLNGSCGSVGFNIDYDCVSFCYMHHMELPTGVHAGTDLEGNFYGPFVDRQTAQAAGTDTTITVNVLAWLYAAVINGDRWFLNRFTTTLNDFNLVAMKYNYEPLTQDHVDILGPLSAQTGIAVLDMCASLKELLQNGMNGRTILGSALLEDEFTPFDVVRQCSGVTFQSAVKRTIKGTHHWLLLTILTSLLVLVQSTQWSLFFFLYENAFLPFAMGIIAMSAFAMMFVKHKHAFLCLFLLPSLATVAYFNMVYMPASWVMRIMTWLDMVDTSLSGFKLKDCVMYASAVVLLILMTARTVYDDGARRVWTLMNVLTLVYKVYYGNALDQAISMWALIISVTSNYSGVVTTVMFLARGIVFMCVEYCPIFFITGNTLQCIMLVYCFLGYFCTCYFGLFCLLNRYFRLTLGVYDYLVSTQEFRYMNSQGLLPPKNSIDAFKLNIKLLGVGGKPCIKVATVQSKMSDVKCTSVVLLSVLQQLRVESSSKLWAQCVQLHNDILLAKDTTEAFEKMVSLLSVLLSMQGAVDINKLCEEMLDNRATLQAIASEFSSLPSYAAFATAQEAYEQAVANGDSEVVLKKLKKSLNVAKSEFDRDAAMQRKLEKMADQAMTQMYKQARSEDKRAKVTSAMQTMLFTMLRKLDNDALNNIINNARDGCVPLNIIPLTTAAKLMVVIPDYNTYKNTCDGTTFTYASALWEIQQVVDADSKIVQLSEISMDNSPNLAWPLIVTALRANSAVKLQNNELSPVALRQMSCAAGTTQTACTDDNALAYYNTTKGGRFVLALLSDLQDLKWARFPKSDGTGTIYTELEPPCRFVTDTPKGPKVKYLYFIKGLNNLNRGMVLGSLAATVRLQAGNATEVPANSTVLSFCAFAVDAAKAYKDYLASGGQPITNCVKMLCTHTGTGQAITVTPEANMDQESFGGASCCLYCRCHIDHPNPKGFCDLKGKYVQIPTTCANDPVGFTLKNTVCTVCGMWKGYGCSCDQLREPMLQSADAQSFLNRVCGVSAARLTPCGTGTSTDVVYRAFDIYNDKVAGFAKFLKTNCCRFQEKDEDDNLIDSYFVVKRHTFSNYQHEETIYNLLKDCPAVAKHDFFKFRIDGDMVPHISRQRLTKYTMADLVYALRHFDEGNCDTLKEILVTYNCCDDDYFNKKDWYDFVENPDILRVYANLGERVRQALLKTVQFCDAMRNAGIVGVLTLDNQDLNGNWYDFGDFIQTTPGSGVPVVDSYYSLLMPILTLTRALTAESHVDTDLTKPYIKWDLLKYDFTEERLKLFDRYFKYWDQTYHPNCVNCLDDRCILHCANFNVLFSTVFPPTSFGPLVRKIFVDGVPFVVSTGYHFRELGVVHNQDVNLHSSRLSFKELLVYAADPAMHAASGNLLLDKRTTCFSVAALTNNVAFQTVKPGNFNKDFYDFAVSKGFFKEGSSVELKHFFFAQDGNAAISDYDYYRYNLPTMCDIRQLLFVVEVVDKYFDCYDGGCINANQVIVNNLDKSAGFPFNKWGKARLYYDSMSYEDQDALFAYTKRNVIPTITQMNLKYAISAKNRARTVAGVSICSTMTNRQFHQKLLKSIAATRGATVVIGTSKFYGGWHNMLKTVYSDVENPHLMGWDYPKCDRAMPNMLRIMASLVLARKHTTCCSLSHRFYRLANECAQVLSEMVMCGGSLYVKPGGTSSGDATTAYANSVFNICQAVTANVNALLSTDGNKIADKYVRNLQHRLYECLYRNRDVDTDFVNEFYAYLRKHFSMMILSDDAVVCFNSTYASQGLVASIKNFKSVLYYQNNVFMSEAKCWTETDLTKGPHEFCSQHTMLVKQGDDYVYLPYPDPSRILGAGCFVDDIVKTDGTLMIERFVSLAIDAYPLTKHPNQEYADVFHLYLQYIRKLHDELTGHMLDMYSVMLTNDNTSRYWEPEFYEAMYTPHTVLQAVGACVLCNSQTSLRCGACIRRPFLCCKCCYDHVISTSHKLVLSVNPYVCNAPGCDVTDVTQLYLGGMSYYCKSHKPPISFPLCANGQVFGLYKNTCVGSDNVTDFNAIATCDWTNAGDYILANTCTERLKLFAAETLKATEETFKLSYGIATVREVLSDRELHLSWEVGKPRPPLNRNYVFTGYRVTKNSKVQIGEYTFEKGDYGDAVVYRGTTTYKLNVGDYFVLTSHTVMPLSAPTLVPQEHYVRITGLYPTLNISDEFSSNVANYQKVGMQKYSTLQGPPGTGKSHFAIGLALYYPSARIVYTACSHAAVDALCEKALKYLPIDKCSRIIPARARVECFDKFKVNSTLEQYVFCTVNALPETTADIVVFDEISMATNYDLSVVNARLRAKHYVYIGDPAQLPAPRTLLTKGTLEPEYFNSVCRLMKTIGPDMFLGTCRRCPAEIVDTVSALVYDNKLKAHKDKSAQCFKMFYKGVITHDVSSAINRPQIGVVREFLTRNPAWRKAVFISPYNSQNAVASKILGLPTQTVDSSQGSEYDYVIFTQTTETAHSCNVNRFNVAITRAKVGILCIMSDRDLYDKLQFTSLEIPRRNVATLQAENVTGLFKDCSKVITGLHPTQAPTHLSVDTKFKTEGLCVDIPGIPKDMTYRRLISMMGFKMNYQVNGYPNMFITREEAIRHVRAWIGFDVEGCHATREAVGTNLPLQLGFSTGVNLVAVPTGYVDTPNNTDFSRVSAKPPPGDQFKHLIPLMYKGLPWNVVRIKIVQMLSDTLKNLSDRVVFVLWAHGFELTSMKYFVKIGPERTCCLCDRRATCFSTASDTYACWHHSIGFDYVYNPFMIDVQQWGFTGNLQSNHDLYCQVHGNAHVASCDAIMTRCLAVHECFVKRVDWTIEYPIIGDELKINAACRKVQHMVVKAALLADKFPVLHDIGNPKAIKCVPQADVEWKFYDAQPCSDKAYKIEELFYSYATHSDKFTDGVCLFWNCNVDRYPANSIVCRFDTRVLSNLNLPGCDGGSLYVNKHAFHTPAFDKSAFVNLKQLPFFYYSDSPCESHGKQVVSDIDYVPLKSATCITRCNLGGAVCRHHANEYRLYLDAYNMMISAGFSLWVYKQFDTYNLWNTFTRLQSLENVAFNVVNKGHFDGQQGEVPVSIINNTVYTKVDGVDVELFENKTTLPVNVAFELWAKRNIKPVPEVKILNNLGVDIAANTVIWDYKRDAPAHISTIGVCSMTDIAKKPTETICAPLTVFFDGRVDGQVDLFRNARNGVLITEGSVKGLQPSVGPKQASLNGVTLIGEAVKTQFNYYKKVDGVVQQLPETYFTQSRNLQEFKPRSQMEIDFLELAMDEFIERYKLEGYAFEHIVYGDFSHSQLGGLHLLIGLAKRFKESPFELEDFIPMDSTVKNYFITDAQTGSSKCVCSVIDLLLDDFVEIIKSQDLSVVSKVVKVTIDYTEISFMLWCKDGHVETFYPKLQSSQAWQPGVAMPNLYKMQRMLLEKCDLQNYGDSATLPKGIMMNVAKYTQLCQYLNTLTLAVPYNMRVIHFGAGSDKGVAPGTAVLRQWLPTGTLLVDSDLNDFVSDADSTLIGDCATVHTANKWDLIISDMYDPKTKNVTKENDSKEGFFTYICGFIQQKLALGGSVAIKITEHSWNADLYKLMGHFAWWTAFVTNVNASSSEAFLIGCNYLGKPREQIDGYVMHANYIFWRNTNPIQLSSYSLFDMSKFPLKLRGTAVMSLKEGQINDMILSLLSKGRLIIRENNRVVISSDVLVNN']\n",
      "\n",
      "type: CDS\n",
      "location: [265:13483](+)\n",
      "qualifiers:\n",
      "    Key: codon_start, Value: ['1']\n",
      "    Key: db_xref, Value: ['GeneID:43740578']\n",
      "    Key: gene, Value: ['ORF1ab']\n",
      "    Key: locus_tag, Value: ['GU280_gp01']\n",
      "    Key: note, Value: ['pp1a']\n",
      "    Key: product, Value: ['ORF1a polyprotein']\n",
      "    Key: protein_id, Value: ['YP_009725295.1']\n",
      "    Key: translation, Value: ['MESLVPGFNEKTHVQLSLPVLQVRDVLVRGFGDSVEEVLSEARQHLKDGTCGLVEVEKGVLPQLEQPYVFIKRSDARTAPHGHVMVELVAELEGIQYGRSGETLGVLVPHVGEIPVAYRKVLLRKNGNKGAGGHSYGADLKSFDLGDELGTDPYEDFQENWNTKHSSGVTRELMRELNGGAYTRYVDNNFCGPDGYPLECIKDLLARAGKASCTLSEQLDFIDTKRGVYCCREHEHEIAWYTERSEKSYELQTPFEIKLAKKFDTFNGECPNFVFPLNSIIKTIQPRVEKKKLDGFMGRIRSVYPVASPNECNQMCLSTLMKCDHCGETSWQTGDFVKATCEFCGTENLTKEGATTCGYLPQNAVVKIYCPACHNSEVGPEHSLAEYHNESGLKTILRKGGRTIAFGGCVFSYVGCHNKCAYWVPRASANIGCNHTGVVGEGSEGLNDNLLEILQKEKVNINIVGDFKLNEEIAIILASFSASTSAFVETVKGLDYKAFKQIVESCGNFKVTKGKAKKGAWNIGEQKSILSPLYAFASEAARVVRSIFSRTLETAQNSVRVLQKAAITILDGISQYSLRLIDAMMFTSDLATNNLVVMAYITGGVVQLTSQWLTNIFGTVYEKLKPVLDWLEEKFKEGVEFLRDGWEIVKFISTCACEIVGGQIVTCAKEIKESVQTFFKLVNKFLALCADSIIIGGAKLKALNLGETFVTHSKGLYRKCVKSREETGLLMPLKAPKEIIFLEGETLPTEVLTEEVVLKTGDLQPLEQPTSEAVEAPLVGTPVCINGLMLLEIKDTEKYCALAPNMMVTNNTFTLKGGAPTKVTFGDDTVIEVQGYKSVNITFELDERIDKVLNEKCSAYTVELGTEVNEFACVVADAVIKTLQPVSELLTPLGIDLDEWSMATYYLFDESGEFKLASHMYCSFYPPDEDEEEGDCEEEEFEPSTQYEYGTEDDYQGKPLEFGATSAALQPEEEQEEDWLDDDSQQTVGQQDGSEDNQTTTIQTIVEVQPQLEMELTPVVQTIEVNSFSGYLKLTDNVYIKNADIVEEAKKVKPTVVVNAANVYLKHGGGVAGALNKATNNAMQVESDDYIATNGPLKVGGSCVLSGHNLAKHCLHVVGPNVNKGEDIQLLKSAYENFNQHEVLLAPLLSAGIFGADPIHSLRVCVDTVRTNVYLAVFDKNLYDKLVSSFLEMKSEKQVEQKIAEIPKEEVKPFITESKPSVEQRKQDDKKIKACVEEVTTTLEETKFLTENLLLYIDINGNLHPDSATLVSDIDITFLKKDAPYIVGDVVQEGVLTAVVIPTKKAGGTTEMLAKALRKVPTDNYITTYPGQGLNGYTVEEAKTVLKKCKSAFYILPSIISNEKQEILGTVSWNLREMLAHAEETRKLMPVCVETKAIVSTIQRKYKGIKIQEGVVDYGARFYFYTSKTTVASLINTLNDLNETLVTMPLGYVTHGLNLEEAARYMRSLKVPATVSVSSPDAVTAYNGYLTSSSKTPEEHFIETISLAGSYKDWSYSGQSTQLGIEFLKRGDKSVYYTSNPTTFHLDGEVITFDNLKTLLSLREVRTIKVFTTVDNINLHTQVVDMSMTYGQQFGPTYLDGADVTKIKPHNSHEGKTFYVLPNDDTLRVEAFEYYHTTDPSFLGRYMSALNHTKKWKYPQVNGLTSIKWADNNCYLATALLTLQQIELKFNPPALQDAYYRARAGEAANFCALILAYCNKTVGELGDVRETMSYLFQHANLDSCKRVLNVVCKTCGQQQTTLKGVEAVMYMGTLSYEQFKKGVQIPCTCGKQATKYLVQQESPFVMMSAPPAQYELKHGTFTCASEYTGNYQCGHYKHITSKETLYCIDGALLTKSSEYKGPITDVFYKENSYTTTIKPVTYKLDGVVCTEIDPKLDNYYKKDNSYFTEQPIDLVPNQPYPNASFDNFKFVCDNIKFADDLNQLTGYKKPASRELKVTFFPDLNGDVVAIDYKHYTPSFKKGAKLLHKPIVWHVNNATNKATYKPNTWCIRCLWSTKPVETSNSFDVLKSEDAQGMDNLACEDLKPVSEEVVENPTIQKDVLECNVKTTEVVGDIILKPANNSLKITEEVGHTDLMAAYVDNSSLTIKKPNELSRVLGLKTLATHGLAAVNSVPWDTIANYAKPFLNKVVSTTTNIVTRCLNRVCTNYMPYFFTLLLQLCTFTRSTNSRIKASMPTTIAKNTVKSVGKFCLEASFNYLKSPNFSKLINIIIWFLLLSVCLGSLIYSTAALGVLMSNLGMPSYCTGYREGYLNSTNVTIATYCTGSIPCSVCLSGLDSLDTYPSLETIQITISSFKWDLTAFGLVAEWFLAYILFTRFFYVLGLAAIMQLFFSYFAVHFISNSWLMWLIINLVQMAPISAMVRMYIFFASFYYVWKSYVHVVDGCNSSTCMMCYKRNRATRVECTTIVNGVRRSFYVYANGGKGFCKLHNWNCVNCDTFCAGSTFISDEVARDLSLQFKRPINPTDQSSYIVDSVTVKNGSIHLYFDKAGQKTYERHSLSHFVNLDNLRANNTKGSLPINVIVFDGKSKCEESSAKSASVYYSQLMCQPILLLDQALVSDVGDSAEVAVKMFDAYVNTFSSTFNVPMEKLKTLVATAEAELAKNVSLDNVLSTFISAARQGFVDSDVETKDVVECLKLSHQSDIEVTGDSCNNYMLTYNKVENMTPRDLGACIDCSARHINAQVAKSHNIALIWNVKDFMSLSEQLRKQIRSAAKKNNLPFKLTCATTRQVVNVVTTKIALKGGKIVNNWLKQLIKVTLVFLFVAAIFYLITPVHVMSKHTDFSSEIIGYKAIDGGVTRDIASTDTCFANKHADFDTWFSQRGGSYTNDKACPLIAAVITREVGFVVPGLPGTILRTTNGDFLHFLPRVFSAVGNICYTPSKLIEYTDFATSACVLAAECTIFKDASGKPVPYCYDTNVLEGSVAYESLRPDTRYVLMDGSIIQFPNTYLEGSVRVVTTFDSEYCRHGTCERSEAGVCVSTSGRWVLNNDYYRSLPGVFCGVDAVNLLTNMFTPLIQPIGALDISASIVAGGIVAIVVTCLAYYFMRFRRAFGEYSHVVAFNTLLFLMSFTVLCLTPVYSFLPGVYSVIYLYLTFYLTNDVSFLAHIQWMVMFTPLVPFWITIAYIICISTKHFYWFFSNYLKRRVVFNGVSFSTFEEAALCTFLLNKEMYLKLRSDVLLPLTQYNRYLALYNKYKYFSGAMDTTSYREAACCHLAKALNDFSNSGSDVLYQPPQTSITSAVLQSGFRKMAFPSGKVEGCMVQVTCGTTTLNGLWLDDVVYCPRHVICTSEDMLNPNYEDLLIRKSNHNFLVQAGNVQLRVIGHSMQNCVLKLKVDTANPKTPKYKFVRIQPGQTFSVLACYNGSPSGVYQCAMRPNFTIKGSFLNGSCGSVGFNIDYDCVSFCYMHHMELPTGVHAGTDLEGNFYGPFVDRQTAQAAGTDTTITVNVLAWLYAAVINGDRWFLNRFTTTLNDFNLVAMKYNYEPLTQDHVDILGPLSAQTGIAVLDMCASLKELLQNGMNGRTILGSALLEDEFTPFDVVRQCSGVTFQSAVKRTIKGTHHWLLLTILTSLLVLVQSTQWSLFFFLYENAFLPFAMGIIAMSAFAMMFVKHKHAFLCLFLLPSLATVAYFNMVYMPASWVMRIMTWLDMVDTSLSGFKLKDCVMYASAVVLLILMTARTVYDDGARRVWTLMNVLTLVYKVYYGNALDQAISMWALIISVTSNYSGVVTTVMFLARGIVFMCVEYCPIFFITGNTLQCIMLVYCFLGYFCTCYFGLFCLLNRYFRLTLGVYDYLVSTQEFRYMNSQGLLPPKNSIDAFKLNIKLLGVGGKPCIKVATVQSKMSDVKCTSVVLLSVLQQLRVESSSKLWAQCVQLHNDILLAKDTTEAFEKMVSLLSVLLSMQGAVDINKLCEEMLDNRATLQAIASEFSSLPSYAAFATAQEAYEQAVANGDSEVVLKKLKKSLNVAKSEFDRDAAMQRKLEKMADQAMTQMYKQARSEDKRAKVTSAMQTMLFTMLRKLDNDALNNIINNARDGCVPLNIIPLTTAAKLMVVIPDYNTYKNTCDGTTFTYASALWEIQQVVDADSKIVQLSEISMDNSPNLAWPLIVTALRANSAVKLQNNELSPVALRQMSCAAGTTQTACTDDNALAYYNTTKGGRFVLALLSDLQDLKWARFPKSDGTGTIYTELEPPCRFVTDTPKGPKVKYLYFIKGLNNLNRGMVLGSLAATVRLQAGNATEVPANSTVLSFCAFAVDAAKAYKDYLASGGQPITNCVKMLCTHTGTGQAITVTPEANMDQESFGGASCCLYCRCHIDHPNPKGFCDLKGKYVQIPTTCANDPVGFTLKNTVCTVCGMWKGYGCSCDQLREPMLQSADAQSFLNGFAV']\n",
      "\n",
      "type: CDS\n",
      "location: [21562:25384](+)\n",
      "qualifiers:\n",
      "    Key: codon_start, Value: ['1']\n",
      "    Key: db_xref, Value: ['GeneID:43740568']\n",
      "    Key: gene, Value: ['S']\n",
      "    Key: gene_synonym, Value: ['spike glycoprotein']\n",
      "    Key: locus_tag, Value: ['GU280_gp02']\n",
      "    Key: note, Value: ['structural protein; spike protein']\n",
      "    Key: product, Value: ['surface glycoprotein']\n",
      "    Key: protein_id, Value: ['YP_009724390.1']\n",
      "    Key: translation, Value: ['MFVFLVLLPLVSSQCVNLTTRTQLPPAYTNSFTRGVYYPDKVFRSSVLHSTQDLFLPFFSNVTWFHAIHVSGTNGTKRFDNPVLPFNDGVYFASTEKSNIIRGWIFGTTLDSKTQSLLIVNNATNVVIKVCEFQFCNDPFLGVYYHKNNKSWMESEFRVYSSANNCTFEYVSQPFLMDLEGKQGNFKNLREFVFKNIDGYFKIYSKHTPINLVRDLPQGFSALEPLVDLPIGINITRFQTLLALHRSYLTPGDSSSGWTAGAAAYYVGYLQPRTFLLKYNENGTITDAVDCALDPLSETKCTLKSFTVEKGIYQTSNFRVQPTESIVRFPNITNLCPFGEVFNATRFASVYAWNRKRISNCVADYSVLYNSASFSTFKCYGVSPTKLNDLCFTNVYADSFVIRGDEVRQIAPGQTGKIADYNYKLPDDFTGCVIAWNSNNLDSKVGGNYNYLYRLFRKSNLKPFERDISTEIYQAGSTPCNGVEGFNCYFPLQSYGFQPTNGVGYQPYRVVVLSFELLHAPATVCGPKKSTNLVKNKCVNFNFNGLTGTGVLTESNKKFLPFQQFGRDIADTTDAVRDPQTLEILDITPCSFGGVSVITPGTNTSNQVAVLYQDVNCTEVPVAIHADQLTPTWRVYSTGSNVFQTRAGCLIGAEHVNNSYECDIPIGAGICASYQTQTNSPRRARSVASQSIIAYTMSLGAENSVAYSNNSIAIPTNFTISVTTEILPVSMTKTSVDCTMYICGDSTECSNLLLQYGSFCTQLNRALTGIAVEQDKNTQEVFAQVKQIYKTPPIKDFGGFNFSQILPDPSKPSKRSFIEDLLFNKVTLADAGFIKQYGDCLGDIAARDLICAQKFNGLTVLPPLLTDEMIAQYTSALLAGTITSGWTFGAGAALQIPFAMQMAYRFNGIGVTQNVLYENQKLIANQFNSAIGKIQDSLSSTASALGKLQDVVNQNAQALNTLVKQLSSNFGAISSVLNDILSRLDKVEAEVQIDRLITGRLQSLQTYVTQQLIRAAEIRASANLAATKMSECVLGQSKRVDFCGKGYHLMSFPQSAPHGVVFLHVTYVPAQEKNFTTAPAICHDGKAHFPREGVFVSNGTHWFVTQRNFYEPQIITTDNTFVSGNCDVVIGIVNNTVYDPLQPELDSFKEELDKYFKNHTSPDVDLGDISGINASVVNIQKEIDRLNEVAKNLNESLIDLQELGKYEQYIKWPWYIWLGFIAGLIAIVMVTIMLCCMTSCCSCLKGCCSCGSCCKFDEDDSEPVLKGVKLHYT']\n",
      "\n",
      "type: CDS\n",
      "location: [25392:26220](+)\n",
      "qualifiers:\n",
      "    Key: codon_start, Value: ['1']\n",
      "    Key: db_xref, Value: ['GeneID:43740569']\n",
      "    Key: gene, Value: ['ORF3a']\n",
      "    Key: locus_tag, Value: ['GU280_gp03']\n",
      "    Key: product, Value: ['ORF3a protein']\n",
      "    Key: protein_id, Value: ['YP_009724391.1']\n",
      "    Key: translation, Value: ['MDLFMRIFTIGTVTLKQGEIKDATPSDFVRATATIPIQASLPFGWLIVGVALLAVFQSASKIITLKKRWQLALSKGVHFVCNLLLLFVTVYSHLLLVAAGLEAPFLYLYALVYFLQSINFVRIIMRLWLCWKCRSKNPLLYDANYFLCWHTNCYDYCIPYNSVTSSIVITSGDGTTSPISEHDYQIGGYTEKWESGVKDCVVLHSYFTSDYYQLYSTQLSTDTGVEHVTFFIYNKIVDEPEEHVQIHTIDGSSGVVNPVMEPIYDEPTTTTSVPL']\n",
      "\n",
      "type: CDS\n",
      "location: [26244:26472](+)\n",
      "qualifiers:\n",
      "    Key: codon_start, Value: ['1']\n",
      "    Key: db_xref, Value: ['GeneID:43740570']\n",
      "    Key: gene, Value: ['E']\n",
      "    Key: locus_tag, Value: ['GU280_gp04']\n",
      "    Key: note, Value: ['ORF4; structural protein; E protein']\n",
      "    Key: product, Value: ['envelope protein']\n",
      "    Key: protein_id, Value: ['YP_009724392.1']\n",
      "    Key: translation, Value: ['MYSFVSEETGTLIVNSVLLFLAFVVFLLVTLAILTALRLCAYCCNIVNVSLVKPSFYVYSRVKNLNSSRVPDLLV']\n",
      "\n",
      "type: CDS\n",
      "location: [26522:27191](+)\n",
      "qualifiers:\n",
      "    Key: codon_start, Value: ['1']\n",
      "    Key: db_xref, Value: ['GeneID:43740571']\n",
      "    Key: gene, Value: ['M']\n",
      "    Key: locus_tag, Value: ['GU280_gp05']\n",
      "    Key: note, Value: ['ORF5; structural protein']\n",
      "    Key: product, Value: ['membrane glycoprotein']\n",
      "    Key: protein_id, Value: ['YP_009724393.1']\n",
      "    Key: translation, Value: ['MADSNGTITVEELKKLLEQWNLVIGFLFLTWICLLQFAYANRNRFLYIIKLIFLWLLWPVTLACFVLAAVYRINWITGGIAIAMACLVGLMWLSYFIASFRLFARTRSMWSFNPETNILLNVPLHGTILTRPLLESELVIGAVILRGHLRIAGHHLGRCDIKDLPKEITVATSRTLSYYKLGASQRVAGDSGFAAYSRYRIGNYKLNTDHSSSSDNIALLVQ']\n",
      "\n",
      "type: CDS\n",
      "location: [27201:27387](+)\n",
      "qualifiers:\n",
      "    Key: codon_start, Value: ['1']\n",
      "    Key: db_xref, Value: ['GeneID:43740572']\n",
      "    Key: gene, Value: ['ORF6']\n",
      "    Key: locus_tag, Value: ['GU280_gp06']\n",
      "    Key: product, Value: ['ORF6 protein']\n",
      "    Key: protein_id, Value: ['YP_009724394.1']\n",
      "    Key: translation, Value: ['MFHLVDFQVTIAEILLIIMRTFKVSIWNLDYIINLIIKNLSKSLTENKYSQLDEEQPMEID']\n",
      "\n",
      "type: CDS\n",
      "location: [27393:27759](+)\n",
      "qualifiers:\n",
      "    Key: codon_start, Value: ['1']\n",
      "    Key: db_xref, Value: ['GeneID:43740573']\n",
      "    Key: gene, Value: ['ORF7a']\n",
      "    Key: locus_tag, Value: ['GU280_gp07']\n",
      "    Key: product, Value: ['ORF7a protein']\n",
      "    Key: protein_id, Value: ['YP_009724395.1']\n",
      "    Key: translation, Value: ['MKIILFLALITLATCELYHYQECVRGTTVLLKEPCSSGTYEGNSPFHPLADNKFALTCFSTQFAFACPDGVKHVYQLRARSVSPKLFIRQEEVQELYSPIFLIVAAIVFITLCFTLKRKTE']\n",
      "\n",
      "type: CDS\n",
      "location: [27755:27887](+)\n",
      "qualifiers:\n",
      "    Key: codon_start, Value: ['1']\n",
      "    Key: db_xref, Value: ['GeneID:43740574']\n",
      "    Key: gene, Value: ['ORF7b']\n",
      "    Key: locus_tag, Value: ['GU280_gp08']\n",
      "    Key: product, Value: ['ORF7b']\n",
      "    Key: protein_id, Value: ['YP_009725318.1']\n",
      "    Key: translation, Value: ['MIELSLIDFYLCFLAFLLFLVLIMLIIFWFSLELQDHNETCHA']\n",
      "\n",
      "type: CDS\n",
      "location: [27893:28259](+)\n",
      "qualifiers:\n",
      "    Key: codon_start, Value: ['1']\n",
      "    Key: db_xref, Value: ['GeneID:43740577']\n",
      "    Key: gene, Value: ['ORF8']\n",
      "    Key: locus_tag, Value: ['GU280_gp09']\n",
      "    Key: product, Value: ['ORF8 protein']\n",
      "    Key: protein_id, Value: ['YP_009724396.1']\n",
      "    Key: translation, Value: ['MKFLVFLGIITTVAAFHQECSLQSCTQHQPYVVDDPCPIHFYSKWYIRVGARKSAPLIELCVDEAGSKSPIQYIDIGNYTVSCLPFTINCQEPKLGSLVVRCSFYEDFLEYHDVRVVLDFI']\n",
      "\n",
      "type: CDS\n",
      "location: [28273:29533](+)\n",
      "qualifiers:\n",
      "    Key: codon_start, Value: ['1']\n",
      "    Key: db_xref, Value: ['GeneID:43740575']\n",
      "    Key: gene, Value: ['N']\n",
      "    Key: locus_tag, Value: ['GU280_gp10']\n",
      "    Key: note, Value: ['ORF9; structural protein']\n",
      "    Key: product, Value: ['nucleocapsid phosphoprotein']\n",
      "    Key: protein_id, Value: ['YP_009724397.2']\n",
      "    Key: translation, Value: ['MSDNGPQNQRNAPRITFGGPSDSTGSNQNGERSGARSKQRRPQGLPNNTASWFTALTQHGKEDLKFPRGQGVPINTNSSPDDQIGYYRRATRRIRGGDGKMKDLSPRWYFYYLGTGPEAGLPYGANKDGIIWVATEGALNTPKDHIGTRNPANNAAIVLQLPQGTTLPKGFYAEGSRGGSQASSRSSSRSRNSSRNSTPGSSRGTSPARMAGNGGDAALALLLLDRLNQLESKMSGKGQQQQGQTVTKKSAAEASKKPRQKRTATKAYNVTQAFGRRGPEQTQGNFGDQELIRQGTDYKHWPQIAQFAPSASAFFGMSRIGMEVTPSGTWLTYTGAIKLDDKDPNFKDQVILLNKHIDAYKTFPPTEPKKDKKKKADETQALPQRQKKQQTVTLLPAADLDDFSKQLQQSMSSADSTQA']\n",
      "\n",
      "type: CDS\n",
      "location: [29557:29674](+)\n",
      "qualifiers:\n",
      "    Key: codon_start, Value: ['1']\n",
      "    Key: db_xref, Value: ['GeneID:43740576']\n",
      "    Key: gene, Value: ['ORF10']\n",
      "    Key: locus_tag, Value: ['GU280_gp11']\n",
      "    Key: product, Value: ['ORF10 protein']\n",
      "    Key: protein_id, Value: ['YP_009725255.1']\n",
      "    Key: translation, Value: ['MGYINVFAFPFTIYSLLLCRMNSRNYIAQVDVVNFNLT']\n",
      "\n"
     ]
    }
   ],
   "source": [
    "for feature in filter(lambda x: x.type == 'CDS', record.features):\n",
    "    print(feature)"
   ]
  },
  {
   "cell_type": "markdown",
   "metadata": {},
   "source": [
    "##  What is the GC content of the genome?"
   ]
  },
  {
   "cell_type": "code",
   "execution_count": 24,
   "metadata": {},
   "outputs": [
    {
     "name": "stdout",
     "output_type": "stream",
     "text": [
      "The GC content of SARS-CoV-2 genome is 37%\n",
      "Neucleotide composition of SARS-CoV-2: A(29%), T(32%), C(18%), G(19%)\n"
     ]
    }
   ],
   "source": [
    "from Bio.SeqUtils import GC\n",
    "from collections import Counter\n",
    "print('The GC content of SARS-CoV-2 genome is %d%%' % GC(record.seq))\n",
    "genome_size = len(record)\n",
    "nt_comp = Counter(record.seq)\n",
    "print('Neucleotide composition of SARS-CoV-2: A(%d%%), T(%d%%), C(%d%%), G(%d%%)' % (nt_comp['A']/genome_size*100, nt_comp['T']/genome_size*100, nt_comp['C']/genome_size*100, nt_comp['G']/genome_size*100))"
   ]
  },
  {
   "cell_type": "code",
   "execution_count": 42,
   "metadata": {},
   "outputs": [
    {
     "name": "stdout",
     "output_type": "stream",
     "text": [
      "The size of SARS-CoV-2 genome is 29,903 bp\n",
      "The GC content of SARS-CoV-2 genome is 37%\n",
      "Neucleotide composition of SARS-CoV-2: A(29%), T(32%), C(18%), G(19%)\n"
     ]
    }
   ],
   "source": [
    "class Seq:\n",
    "    def __init__(self, name, seqrecord):\n",
    "        self._seq = seqrecord.seq\n",
    "        self._name = name\n",
    "        self._id = seqrecord.id\n",
    "        self._size = None\n",
    "        self._GC = None\n",
    "    def getName(self):\n",
    "        return self._name\n",
    "    def getID(self):\n",
    "        return self._id\n",
    "    def reportSize(self):\n",
    "        self._size = len(self._seq)\n",
    "        print('The size of {} genome is {:,} bp'.format(self._name ,self._size))\n",
    "    def genomeGC(self):\n",
    "        self._GC = GC(self._seq)\n",
    "        return self._GC\n",
    "    def reportGC(self):\n",
    "        self.genomeGC()\n",
    "        print('The GC content of %s genome is %d%%' % (self._name, self._GC))\n",
    "    def ntcomponent(self):\n",
    "        d = Counter(self._seq)\n",
    "        self._ntcomponents = {k: v/self._size*100 for (k, v) in d.items()}\n",
    "        return self._ntcomponents\n",
    "    def reportNtComponent(self):\n",
    "        self.ntcomponent()\n",
    "        print('Neucleotide composition of %s: A(%d%%), T(%d%%), C(%d%%), G(%d%%)' % (self._name, self._ntcomponents['A'], self._ntcomponents['T'], self._ntcomponents['C'], self._ntcomponents['G']))\n",
    "\n",
    "def testGenomeInfo(filepath):\n",
    "    record = Seq('SARS-CoV-2', next(SeqIO.parse(filepath, 'fasta')))\n",
    "    record.reportSize()\n",
    "    record.reportGC()\n",
    "    record.reportNtComponent()\n",
    "\n",
    "filepath = '../data/01_raw/NC_045512.fasta'\n",
    "testGenomeInfo(filepath)"
   ]
  },
  {
   "cell_type": "markdown",
   "metadata": {},
   "source": [
    "## Is it different from other coronavirus?\n",
    "-   Feline infectious peritonitis virus (NC_002306.3)\n",
    "-   Human coronavirus 229E (NC_002645.1)\n",
    "-   Human coronavirus NL64 (NC_005831.2)\n",
    "-   Miniopterus bat coronavirus 1A (NC_010437.1)\n",
    "-   Miniopterus bat coronavirus 1B (EU420137.1)\n",
    "-   Miniopterus bat coronavirus HKU8 (NC_010438.1)\n",
    "-   Porcine epidemic diarrhea virus (NC_003436.1)\n",
    "-   Porcine respiratory coronavirus (DQ811787.1)\n",
    "-   Rhinolophus bat coronavirus HKU2 (NC_009988.1)\n",
    "-   Scotophilus bat coronavirus 512 (NC_009657.1)\n",
    "-   Transmissible gastroenteritis virus (NC_038861.1)\n",
    "-   Bovine coronavirus (NC_003045.1)\n",
    "-   Equine coronavirus (LC061274.1)\n",
    "-   Human coronavirus HKU1 (NC_006577.2)\n",
    "-   Human coronavirus OC43 (NC_006213.1)\n",
    "-   Mouse hepatitis virus (NC_001846.1)\n",
    "-   Porcine hemagglutinating encephalomyelitis virus (DQ011855.1)\n",
    "-   Severe acute respiratory syndrome-related coronavirus 2\t(NC_045512.2)\n",
    "-   Severe acute respiratory syndrome-related coronavirus\t(NC_004718.3)\n",
    "-   SARS-related Rhinolophus bat coronavirus HKU3/\t(NC_009694.1)\n",
    "-   Middle East respiratory syndrome-related coronavirus\t(NC_019843.3)\n",
    "-   Bat coronavirus HKU9-1\t(NC_009021.1)\n",
    "-   Pipistrellus bat coronavirus HKU5\t(NC_009020.1)\n",
    "-   Tylonycteris bat coronavirus HKU4\t(NC_009019.1)\n",
    "-   Avian infectious bronchitis virus\t(NC_001451.1)\n",
    "-   Beluga whale coronavirus SW1\t(NC_010646.1)\n",
    "-   Turkey coronavirus\t(NC_010800.1)\n",
    "-   Bulbul coronavirus HKU11-934\t(NC_011547.1)\n",
    "-   Munia coronavirus HKU13-3514\t(NC_011550.1)\n",
    "-   Thrush coronavirus HKU12-600\t(NC_011549.1)"
   ]
  },
  {
   "cell_type": "code",
   "execution_count": 41,
   "metadata": {},
   "outputs": [
    {
     "name": "stdout",
     "output_type": "stream",
     "text": [
      "The mean GC content of coronavirus genome is 39%\n"
     ]
    }
   ],
   "source": [
    "import os\n",
    "import gzip\n",
    "import numpy as np\n",
    "DIR= r'../data/01_raw/refseq/viral/'\n",
    "viral_records = []\n",
    "for folder in os.listdir(DIR):\n",
    "    for f in os.listdir(os.path.join(DIR, folder)):\n",
    "        if f.endswith(\".fna.gz\"):\n",
    "            with gzip.open(os.path.join(DIR, folder, f), 'rt') as handle:\n",
    "                viral_record = SeqIO.parse(handle, 'fasta')\n",
    "                for viral in viral_record:\n",
    "                    viral_records.append(viral)\n",
    "\n",
    "ls_corona = ['NC_002306.3', 'NC_002645.1', 'NC_005831.2', 'NC_010437.1', 'EU420137.1',\n",
    "'NC_010438.1', 'NC_003436.1', 'DQ811787.1', 'NC_009988.1', 'NC_009657.1', 'NC_038861.1', \n",
    "'NC_003045.1', 'LC061274.1', 'NC_006577.2', 'NC_006213.1', 'NC_001846.1', 'DQ011855.1', \n",
    "'NC_004718.3', 'NC_009694.1', 'NC_019843.3', 'NC_009021.1', 'NC_009020.1', 'NC_009019.1', \n",
    "'NC_001451.1', 'NC_010646.1', 'NC_010800.1', 'NC_011547.1', 'NC_011550.1', 'NC_011549.1']\n",
    "GCs_viral = []\n",
    "for viral in viral_records:\n",
    "    if viral.id in ls_corona:\n",
    "        GC_viral = GC(viral.seq)\n",
    "        GCs_viral.append(GC_viral)\n",
    "\n",
    "    else:\n",
    "        continue\n",
    "print('The mean GC content of coronavirus genome is %d%%' % np.mean(GCs_viral))\n"
   ]
  },
  {
   "cell_type": "code",
   "execution_count": 40,
   "metadata": {},
   "outputs": [
    {
     "name": "stdout",
     "output_type": "stream",
     "text": [
      "Coronavirus contains 24 genome sequences\n",
      "The mean GC content of Coronavirus genome is 39.01%\n",
      "The mean nucleotide composition of Coronavirus genome: A(27.22%), T(33.77%), C(17.57%), G(21.44%)\n"
     ]
    }
   ],
   "source": [
    "import os\n",
    "import gzip\n",
    "import numpy as np\n",
    "class ViralSeqs:\n",
    "    def __init__(self, name, lst_accessions):\n",
    "        self._name = name\n",
    "        self._viralseqs = []\n",
    "        self.filterViral(lst_accessions)\n",
    "    def getViralseqs(self):\n",
    "        return self._viralseqs\n",
    "    def getNumberofSeqs(self):\n",
    "        self._num = len(self._viralseqs)\n",
    "    def filterViral(self, lst_accessions):\n",
    "        DIR= r'../data/01_raw/refseq/viral/'\n",
    "        for folder in os.listdir(DIR):\n",
    "            for f in os.listdir(os.path.join(DIR, folder)):\n",
    "                if f.endswith(\".fna.gz\"):\n",
    "                    with gzip.open(os.path.join(DIR, folder, f), 'rt') as handle:\n",
    "                        viral_record = SeqIO.parse(handle, 'fasta')\n",
    "                        for viral in viral_record:\n",
    "                            if viral.id.split('.')[0] in lst_accessions:\n",
    "                                self._viralseqs.append(viral)\n",
    "        return self._viralseqs\n",
    "    def getName(self):\n",
    "        return self._name\n",
    "    def meanViralGC(self):\n",
    "        self._meanGC = np.mean([GC(s.seq) for s in self._viralseqs])\n",
    "        return self._meanGC\n",
    "    def reportmeanGC(self):\n",
    "        self.meanViralGC()\n",
    "        print('The mean GC content of %s genome is %.2f%%' % (self._name, self._meanGC))\n",
    "    def meanntcomponent(self):\n",
    "        ntcomponents = {'A':[], 'T':[], 'C': [], 'G': []}\n",
    "        for viral in self._viralseqs:\n",
    "            d = Counter(viral.seq.upper())\n",
    "            ntcomp = {k: v/len(viral.seq)*100 for (k, v) in d.items()}\n",
    "            ntcomponents['A'].append(ntcomp['A'])\n",
    "            ntcomponents['T'].append(ntcomp['T'])\n",
    "            ntcomponents['C'].append(ntcomp['C'])\n",
    "            ntcomponents['G'].append(ntcomp['G'])\n",
    "        self._meancomp = {k: np.mean(v) for (k, v) in ntcomponents.items()}\n",
    "        return self._meancomp\n",
    "    def reportmeancomp(self):\n",
    "        self.meanntcomponent()\n",
    "        print('The mean nucleotide composition of %s genome: A(%.2f%%), T(%.2f%%), C(%.2f%%), G(%.2f%%)' % (self._name, self._meancomp['A'], self._meancomp['T'], self._meancomp['C'], self._meancomp['G']))\n",
    "    def reportnumofseqs(self):\n",
    "        self.getNumberofSeqs()\n",
    "        print('%s contains %d genome sequences' % (self._name, self._num))   \n",
    "\n",
    "def testViralSeqs():\n",
    "    acc_corona =  ['NC_002306', 'NC_002645', 'NC_005831', 'NC_010437', 'EU420137',\n",
    "    'NC_010438', 'NC_003436', 'DQ811787', 'NC_009988', 'NC_009657', 'NC_038861', \n",
    "    'NC_003045', 'LC061274', 'NC_006577', 'NC_006213', 'NC_001846', 'DQ011855', \n",
    "    'NC_004718', 'NC_009694', 'NC_019843', 'NC_009021', 'NC_009020', 'NC_009019', \n",
    "    'NC_001451', 'NC_010646', 'NC_010800', 'NC_011547', 'NC_011550', 'NC_011549']\n",
    "    coronavirus = ViralSeqs('Coronavirus', acc_corona)\n",
    "    coronavirus.reportnumofseqs()\n",
    "    coronavirus.reportmeanGC()\n",
    "    coronavirus.reportmeancomp()\n",
    "\n",
    "    \n",
    "testViralSeqs()\n",
    "    "
   ]
  },
  {
   "cell_type": "markdown",
   "metadata": {},
   "source": [
    "#   How many genes in the SARS-CoV-2 genome?  \n",
    "-   identify open reading frame in the SARS-CoV-2 genome."
   ]
  },
  {
   "cell_type": "code",
   "execution_count": 25,
   "metadata": {},
   "outputs": [
    {
     "name": "stdout",
     "output_type": "stream",
     "text": [
      "The Open Reading Frame:\n",
      "#\tstrand\tframe\tstart\tstop\tlength\n",
      "1\t+\t1\t13768\t21555\t7788\n",
      "2\t+\t1\t25393\t26220\t828\n",
      "3\t+\t1\t27394\t27759\t366\n",
      "4\t+\t2\t266\t13483\t13218\n",
      "5\t+\t2\t21536\t25384\t3849\n",
      "6\t+\t2\t28274\t29533\t1260\n",
      "7\t+\t3\t26523\t27191\t669\n",
      "8\t+\t3\t27894\t28259\t366\n",
      "9\t-\t3\t6489\t6187\t303\n"
     ]
    }
   ],
   "source": [
    "from Bio.Data import CodonTable\n",
    "\n",
    "class ORF():\n",
    "    def __init__(self, strand, frame, startcodon, stopcodon, seq) -> None:\n",
    "        self.strand = strand\n",
    "        self.frame = frame\n",
    "        self.startcodon = startcodon\n",
    "        self.stopcodon = stopcodon\n",
    "        self.seq = seq\n",
    "\n",
    "\n",
    "class ORFfinder:\n",
    "    def __init__(self):\n",
    "        self._codontable = CodonTable.standard_dna_table\n",
    "    \n",
    "    def findorf(self, seq):\n",
    "        self._orfs = []\n",
    "        for strand in ['+', '-']:\n",
    "            if strand == '-':\n",
    "                seq = seq.reverse_complement()\n",
    "            for frame in range(3):\n",
    "                first_startcodon_idx = None\n",
    "                for i in range(frame, len(str(seq)), 3):\n",
    "                    codon = str(seq)[i: i + 3]\n",
    "                    if not first_startcodon_idx and codon == 'ATG':\n",
    "                        first_startcodon_idx = i\n",
    "                    if first_startcodon_idx and codon in self._codontable.stop_codons:\n",
    "                        orf = str(seq)[first_startcodon_idx:i+3]\n",
    "                        if (i - first_startcodon_idx) >= 300:\n",
    "                            if strand == '+':\n",
    "                                self._orfs.append(ORF(strand, frame + 1, first_startcodon_idx + 1, i + 3, orf))\n",
    "                            else:\n",
    "                                self._orfs.append(ORF(strand, frame + 1, len(str(seq)) - (first_startcodon_idx + 1) + 1, len(str(seq)) - (i + 3) + 1 , orf))\n",
    "                        first_startcodon_idx = None\n",
    "        return self._orfs\n",
    "                       \n",
    "    def reportorf(self, seq):\n",
    "        self.findorf(seq)\n",
    "        print('The Open Reading Frame:')\n",
    "        print('#\\tstrand\\tframe\\tstart\\tstop\\tlength')\n",
    "        for i, orf in enumerate(self._orfs):\n",
    "            print('%d\\t%s\\t%d\\t%d\\t%d\\t%d' % (i + 1, orf.strand, orf.frame ,orf.startcodon, orf.stopcodon, abs(orf.stopcodon - orf.startcodon) + 1))\n",
    "\n",
    "    \n",
    "\n",
    "\n",
    "def testorffinder(seq):\n",
    "    orffinder = ORFfinder()\n",
    "    orffinder.reportorf(seq)\n",
    "\n",
    "testorffinder(record.seq)\n",
    "        "
   ]
  },
  {
   "cell_type": "code",
   "execution_count": null,
   "metadata": {},
   "outputs": [],
   "source": []
  }
 ],
 "metadata": {
  "interpreter": {
   "hash": "9d3bae0a0f66551680ef8a166f6b92cc2774d5d7901f027deb7bb883ed06d5ae"
  },
  "kernelspec": {
   "display_name": "Python 3.7.4 64-bit ('base': conda)",
   "name": "python3"
  },
  "language_info": {
   "codemirror_mode": {
    "name": "ipython",
    "version": 3
   },
   "file_extension": ".py",
   "mimetype": "text/x-python",
   "name": "python",
   "nbconvert_exporter": "python",
   "pygments_lexer": "ipython3",
   "version": "3.9.5"
  },
  "orig_nbformat": 4
 },
 "nbformat": 4,
 "nbformat_minor": 2
}
